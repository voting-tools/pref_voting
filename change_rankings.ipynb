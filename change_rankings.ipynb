{
 "cells": [
  {
   "cell_type": "markdown",
   "metadata": {},
   "source": [
    "# Change Rankings"
   ]
  },
  {
   "cell_type": "code",
   "execution_count": 3,
   "metadata": {},
   "outputs": [],
   "source": [
    "from pref_voting.profiles import Profile\n",
    "from pref_voting.profiles_with_ties import ProfileWithTies\n",
    "from pref_voting.generate_profiles import generate_profile, generate_truncated_profile\n",
    "from pref_voting.rankings import Ranking"
   ]
  },
  {
   "cell_type": "code",
   "execution_count": 16,
   "metadata": {},
   "outputs": [
    {
     "name": "stdout",
     "output_type": "stream",
     "text": [
      "+---+---+---+---+---+---+---+---+---+---+\n",
      "| 1 | 1 | 1 | 1 | 1 | 1 | 1 | 1 | 1 | 1 |\n",
      "+---+---+---+---+---+---+---+---+---+---+\n",
      "| 2 | 0 | 2 | 2 | 0 | 3 | 1 | 2 | 2 | 2 |\n",
      "| 3 | 2 | 3 | 3 | 1 | 2 | 3 | 1 | 1 | 0 |\n",
      "| 0 | 1 | 0 | 1 | 3 | 0 | 0 | 3 | 3 | 1 |\n",
      "| 1 | 3 | 1 | 0 | 2 | 1 | 2 | 0 | 0 | 3 |\n",
      "+---+---+---+---+---+---+---+---+---+---+\n",
      "+---+---+---+---+-----+\n",
      "| 3 | 5 | 4 | 1 |  2  |\n",
      "+---+---+---+---+-----+\n",
      "| 0 | 0 | 0 | 1 | 2 1 |\n",
      "|   | 1 | 1 | 2 |  0  |\n",
      "|   |   | 2 | 0 |     |\n",
      "+---+---+---+---+-----+\n",
      "3\n",
      "5\n",
      "8\n",
      "2\n",
      "7\n",
      "{0: 15, 1: 12, 2: 7}\n"
     ]
    }
   ],
   "source": [
    "prof = generate_profile(4, 10)\n",
    "\n",
    "print(prof)\n",
    "\n",
    "prof = prof.to_profile_with_ties()\n",
    "prof = ProfileWithTies([\n",
    "    {0:1},\n",
    "    {0:1, 1:2},\n",
    "    {0:1, 1:2, 2:3},\n",
    "    {1:1, 2:2, 0:3},\n",
    "    {2:1, 1:1, 0:3}\n",
    "],\n",
    "rcounts=[3, 5, 4, 1, 2], candidates = [0, 1, 2])\n",
    "prof.display()\n",
    "print(prof.num_bullet_votes())\n",
    "print(prof.num_linear_orders())\n",
    "print(prof.num_truncated_linear_orders())\n",
    "print(prof.num_rankings_with_ties())\n",
    "print(prof.num_ranked_all_candidates())\n",
    "print(prof.num_ranking_each_candidate())"
   ]
  },
  {
   "cell_type": "code",
   "execution_count": null,
   "metadata": {},
   "outputs": [],
   "source": [
    "def same_ranking_extended_strict_pref(ranking1, ranking2, candidates): \n",
    "    # check if ranking1 and ranking2 have the same ranking of candidates\n",
    "    for c1 in candidates:\n",
    "        for c2 in candidates:\n",
    "            if (not ranking1.extended_strict_pref(c1, c2) and ranking2.extended_strict_pref(c1, c2)) or (not ranking2.extended_strict_pref(c1, c2) and ranking1.extended_strict_pref(c1, c2)):\n",
    "                return False\n",
    "    return True\n",
    "\n",
    "def replace_rankings(\n",
    "        profile, \n",
    "        old_ranking, \n",
    "        new_ranking, \n",
    "        num, \n",
    "        use_extended_strict_preference_for_comparison = False): \n",
    "    \"\"\"\n",
    "\n",
    "    Create a new profile by replacing num ballots matching ranking1 with ranking2.\n",
    "\n",
    "    If num is greater than the number of ballots matching ranking1, then all ballots matching ranking1 are replaced with ranking2.\n",
    "    \n",
    "    \"\"\"\n",
    "    is_profile = isinstance(profile, Profile)\n",
    "    is_profile_with_ties = isinstance(profile, ProfileWithTies)\n",
    "\n",
    "    if is_profile_with_ties:\n",
    "        using_extended_strict_pref = profile.using_extended_strict_preference\n",
    "    \n",
    "    ranking_types, ranking_counts = profile.rankings_counts\n",
    "\n",
    "    if is_profile_with_ties: \n",
    "        if not isinstance(old_ranking, Ranking) or not isinstance(new_ranking, Ranking):\n",
    "            raise ValueError(\"rankings must be of type Ranking\")\n",
    "        \n",
    "    if is_profile: \n",
    "        same_ranking = lambda r1, r2: list(r1) == list(r2)\n",
    "    elif is_profile_with_ties:\n",
    "        if use_extended_strict_preference_for_comparison:\n",
    "            same_ranking = lambda r1, r2: same_ranking_extended_strict_pref(r1, r2, profile.candidates)\n",
    "        else:\n",
    "            same_ranking = lambda r1, r2: r1 == r2\n",
    "        \n",
    "    new_ranking_types = []\n",
    "    new_ranking_counts = []\n",
    "\n",
    "    current_num = 0\n",
    "    for r, c in zip(ranking_types, ranking_counts):\n",
    "        \n",
    "        if current_num < num and same_ranking(r, old_ranking):\n",
    "            if c > num - current_num:\n",
    "                new_ranking_types.append(new_ranking)\n",
    "                new_ranking_counts.append(num - current_num)\n",
    "                new_ranking_types.append(old_ranking)\n",
    "                new_ranking_counts.append(c - (num - current_num))\n",
    "                current_num = num\n",
    "            elif c == num - current_num and same_ranking(r, old_ranking):\n",
    "                new_ranking_types.append(new_ranking)\n",
    "                new_ranking_counts.append(num - current_num)\n",
    "                current_num = num\n",
    "            elif c < num - current_num:\n",
    "                new_ranking_types.append(new_ranking)\n",
    "                new_ranking_counts.append(c)\n",
    "                current_num += c\n",
    "        else:\n",
    "            new_ranking_types.append(r)\n",
    "            new_ranking_counts.append(c)\n",
    "\n",
    "    if is_profile:\n",
    "        new_prof = Profile(new_ranking_types, new_ranking_counts, cmap=profile.cmap)\n",
    "    elif is_profile_with_ties:\n",
    "        new_prof = ProfileWithTies(new_ranking_types, new_ranking_counts, profile.candidates, cmap=profile.cmap)\n",
    "\n",
    "        if using_extended_strict_pref:\n",
    "            new_prof.use_extended_strict_preference()\n",
    "    \n",
    "    assert profile.num_voters == new_prof.num_voters, \"Problem: the number of voters is not the same in the new profile!\"\n",
    "    \n",
    "    return new_prof"
   ]
  },
  {
   "cell_type": "code",
   "execution_count": 97,
   "metadata": {},
   "outputs": [
    {
     "name": "stdout",
     "output_type": "stream",
     "text": [
      "+---+---+-----+---+---+\n",
      "| 2 | 1 |  1  | 2 | 1 |\n",
      "+---+---+-----+---+---+\n",
      "| 0 | 0 | 0 1 | 0 | 0 |\n",
      "| 1 |   |     | 1 | 1 |\n",
      "|   |   |     |   | 2 |\n",
      "+---+---+-----+---+---+\n",
      "0 1 \n",
      "+---+---+-----+---+---+\n",
      "| 2 | 1 |  1  | 2 | 1 |\n",
      "+---+---+-----+---+---+\n",
      "| 2 | 0 | 0 1 | 2 | 0 |\n",
      "| 1 |   |     | 1 | 1 |\n",
      "|   |   |     |   | 2 |\n",
      "+---+---+-----+---+---+\n"
     ]
    }
   ],
   "source": [
    "prof = ProfileWithTies([\n",
    "    Ranking({0:1, 1:2}),\n",
    "    Ranking({0:2}),\n",
    "    Ranking({0:1, 1:1}),\n",
    "    Ranking({0:1, 1:2}),\n",
    "    Ranking({0:1, 1:2, 2:3}),\n",
    "],\n",
    "rcounts=[2, 1, 1, 2, 1])\n",
    "prof.display()  \n",
    "r1 = Ranking.from_linear_order((0, 1))\n",
    "print(r1)\n",
    "new_prof = replace_rankings(prof, r1, Ranking.from_linear_order((2, 1)), 10, use_extended_strict_preference_for_comparison=False)\n",
    "\n",
    "new_prof.display()"
   ]
  },
  {
   "cell_type": "code",
   "execution_count": 101,
   "metadata": {},
   "outputs": [
    {
     "name": "stdout",
     "output_type": "stream",
     "text": [
      "+---+---+---+---+---+---+---+---+\n",
      "| 2 | 1 | 1 | 2 | 1 | 1 | 1 | 1 |\n",
      "+---+---+---+---+---+---+---+---+\n",
      "| 0 | 2 | 1 | 0 | 1 | 1 | 1 | 2 |\n",
      "|   | 0 | 2 | 1 | 0 |   | 0 | 1 |\n",
      "|   | 1 | 0 |   |   |   | 2 |   |\n",
      "+---+---+---+---+---+---+---+---+\n",
      "0 1 \n",
      "+---+---+---+---+---+---+---+---+---+\n",
      "| 2 | 1 | 1 | 1 | 1 | 1 | 1 | 1 | 1 |\n",
      "+---+---+---+---+---+---+---+---+---+\n",
      "| 0 | 2 | 1 | 2 | 0 | 1 | 1 | 1 | 2 |\n",
      "|   | 0 | 2 | 1 | 1 | 0 |   | 0 | 1 |\n",
      "|   | 1 | 0 |   |   |   |   | 2 |   |\n",
      "+---+---+---+---+---+---+---+---+---+\n"
     ]
    }
   ],
   "source": [
    "#prof = generate_truncated_profile(3, 10).anonymize()\n",
    "\n",
    "prof.display()  \n",
    "r1 = Ranking.from_linear_order((0, 1))\n",
    "print(r1)\n",
    "new_prof = replace_rankings(prof, r1, Ranking.from_linear_order((2, 1)), 1, use_extended_strict_preference_for_comparison=True)\n",
    "\n",
    "new_prof.display()"
   ]
  },
  {
   "cell_type": "code",
   "execution_count": 106,
   "metadata": {},
   "outputs": [
    {
     "name": "stdout",
     "output_type": "stream",
     "text": [
      "+---+---+---+---+---+\n",
      "| 1 | 2 | 2 | 2 | 3 |\n",
      "+---+---+---+---+---+\n",
      "| 1 | 1 | 0 | 2 | 2 |\n",
      "| 0 | 2 | 1 | 0 | 1 |\n",
      "| 2 | 0 | 2 | 1 | 0 |\n",
      "+---+---+---+---+---+\n",
      "+---+---+---+---+---+\n",
      "| 1 | 2 | 2 | 2 | 3 |\n",
      "+---+---+---+---+---+\n",
      "| 2 | 1 | 0 | 2 | 2 |\n",
      "| 1 | 2 | 1 | 0 | 1 |\n",
      "| 0 | 0 | 2 | 1 | 0 |\n",
      "+---+---+---+---+---+\n"
     ]
    }
   ],
   "source": [
    "prof = generate_profile(3, 10).anonymize()\n",
    "\n",
    "\n",
    "prof.display()  \n",
    "\n",
    "new_prof = replace_rankings(prof, prof.rankings[0], (2, 1, 0), 1)\n",
    "\n",
    "new_prof.display()"
   ]
  },
  {
   "cell_type": "code",
   "execution_count": null,
   "metadata": {},
   "outputs": [],
   "source": []
  }
 ],
 "metadata": {
  "kernelspec": {
   "display_name": "Python 3",
   "language": "python",
   "name": "python3"
  },
  "language_info": {
   "codemirror_mode": {
    "name": "ipython",
    "version": 3
   },
   "file_extension": ".py",
   "mimetype": "text/x-python",
   "name": "python",
   "nbconvert_exporter": "python",
   "pygments_lexer": "ipython3",
   "version": "3.11.6"
  }
 },
 "nbformat": 4,
 "nbformat_minor": 2
}
